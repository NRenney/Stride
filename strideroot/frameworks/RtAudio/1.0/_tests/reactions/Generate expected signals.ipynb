{
 "cells": [
  {
   "cell_type": "code",
   "execution_count": 3,
   "metadata": {
    "collapsed": false
   },
   "outputs": [
    {
     "name": "stdout",
     "output_type": "stream",
     "text": [
      "Populating the interactive namespace from numpy and matplotlib\n"
     ]
    }
   ],
   "source": [
    "%pylab inline\n",
    "num_samples = 44100\n",
    "input1 = linspace(-1, 1, num_samples)\n",
    "input2 = linspace(1, -1, num_samples)"
   ]
  },
  {
   "cell_type": "code",
   "execution_count": 4,
   "metadata": {
    "collapsed": false
   },
   "outputs": [
    {
     "name": "stdout",
     "output_type": "stream",
     "text": [
      "use DesktopAudio version 1.0\r\n",
      "\r\n",
      "import Generators\r\n",
      "\r\n",
      "signal Value {\r\n",
      "    default: 0\r\n",
      "}\r\n",
      "\r\n",
      "reaction Adder {\r\n",
      "    streams: [\r\n",
      "        Value + 10 >> Value;\r\n",
      "    ]\r\n",
      "}\r\n",
      "\r\n",
      "Impulse(frequency: 20) >> Adder();\r\n",
      "\r\n",
      "Value >> AudioOut[1];\r\n"
     ]
    }
   ],
   "source": [
    "!cat 01_simple_reaction.stride"
   ]
  },
  {
   "cell_type": "code",
   "execution_count": 26,
   "metadata": {
    "collapsed": false
   },
   "outputs": [],
   "source": [
    "out_text = ''\n",
    "\n",
    "value = 0.0\n",
    "def add():\n",
    "    global value\n",
    "    value += 10\n",
    "    \n",
    "\n",
    "for val1, val2 in zip(input1, input2):\n",
    "    if val1 > val2:\n",
    "        add()\n",
    "    out_text += str(value) + \"\\n\" +\"0.0\\n\"\n",
    "\n",
    "out_file = open(\"01_simple_reaction.expected\", \"w\")\n",
    "out_file.write(out_text[:-1])\n",
    "\n",
    "pass"
   ]
  },
  {
   "cell_type": "code",
   "execution_count": 27,
   "metadata": {
    "collapsed": false
   },
   "outputs": [
    {
     "data": {
      "text/plain": [
       "2205.0"
      ]
     },
     "execution_count": 27,
     "metadata": {},
     "output_type": "execute_result"
    }
   ],
   "source": [
    "target"
   ]
  },
  {
   "cell_type": "code",
   "execution_count": 28,
   "metadata": {
    "collapsed": false
   },
   "outputs": [
    {
     "name": "stdout",
     "output_type": "stream",
     "text": [
      "use DesktopAudio version 1.0\r\n",
      "\r\n",
      "import Generators\r\n",
      "\r\n",
      "signal Value {\r\n",
      "    default: 0\r\n",
      "}\r\n",
      "\r\n",
      "module Add10 {\r\n",
      "    ports: [\r\n",
      "\t\tport OutputPort {\r\n",
      "\t\t\tmain: on\r\n",
      "\t\t\tdirection: \"output\"\r\n",
      "\t\t\tblock: Output\r\n",
      "            size: 1\r\n",
      "\t\t}\r\n",
      "\t\tport InputPort {\r\n",
      "\t\t\tmain: on\r\n",
      "\t\t\tdirection: \"input\"\r\n",
      "\t\t\tblock: Input\r\n",
      "            size: 1\r\n",
      "\t\t}\r\n",
      "    ]\r\n",
      "    streams: [\r\n",
      "        Input + 10 >> Output;\r\n",
      "    ]\r\n",
      "}\r\n",
      "\r\n",
      "reaction Adder {\r\n",
      "    streams: [\r\n",
      "        Value >> Add10() >> Value;\r\n",
      "    ]\r\n",
      "}\r\n",
      "\r\n",
      "AudioIn >> Greater() >> Adder();\r\n",
      "\r\n",
      "Value >> AudioOut[1];\r\n"
     ]
    }
   ],
   "source": [
    "!cat 02_module_in_reaction.stride"
   ]
  },
  {
   "cell_type": "code",
   "execution_count": 29,
   "metadata": {
    "collapsed": false
   },
   "outputs": [],
   "source": [
    "out_text = ''\n",
    "\n",
    "value = 0.0\n",
    "def add():\n",
    "    global value\n",
    "    value += 10\n",
    "    \n",
    "\n",
    "for val1, val2 in zip(input1, input2):\n",
    "    if val1 > val2:\n",
    "        add()\n",
    "    out_text += str(value) + \"\\n\" +\"0.0\\n\"\n",
    "\n",
    "out_file = open(\"02_module_in_reaction.expected\", \"w\")\n",
    "out_file.write(out_text[:-1])\n",
    "\n",
    "pass"
   ]
  },
  {
   "cell_type": "code",
   "execution_count": null,
   "metadata": {
    "collapsed": true
   },
   "outputs": [],
   "source": []
  },
  {
   "cell_type": "code",
   "execution_count": null,
   "metadata": {
    "collapsed": true
   },
   "outputs": [],
   "source": []
  }
 ],
 "metadata": {
  "kernelspec": {
   "display_name": "Python 3",
   "language": "python",
   "name": "python3"
  },
  "language_info": {
   "codemirror_mode": {
    "name": "ipython",
    "version": 3
   },
   "file_extension": ".py",
   "mimetype": "text/x-python",
   "name": "python",
   "nbconvert_exporter": "python",
   "pygments_lexer": "ipython3",
   "version": "3.5.3"
  }
 },
 "nbformat": 4,
 "nbformat_minor": 2
}
