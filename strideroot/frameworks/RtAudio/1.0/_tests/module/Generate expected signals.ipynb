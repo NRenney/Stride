{
 "cells": [
  {
   "cell_type": "code",
   "execution_count": 2,
   "metadata": {
    "collapsed": false
   },
   "outputs": [
    {
     "name": "stdout",
     "output_type": "stream",
     "text": [
      "Populating the interactive namespace from numpy and matplotlib\n"
     ]
    }
   ],
   "source": [
    "%pylab inline"
   ]
  },
  {
   "cell_type": "code",
   "execution_count": 3,
   "metadata": {
    "collapsed": true
   },
   "outputs": [],
   "source": [
    "num_samples = 44100"
   ]
  },
  {
   "cell_type": "code",
   "execution_count": 4,
   "metadata": {
    "collapsed": false
   },
   "outputs": [],
   "source": [
    "input1 = linspace(-1, 1, num_samples)\n",
    "input2 = linspace(1, -1, num_samples)"
   ]
  },
  {
   "cell_type": "code",
   "execution_count": 5,
   "metadata": {
    "collapsed": false
   },
   "outputs": [
    {
     "name": "stdout",
     "output_type": "stream",
     "text": [
      "use DesktopAudio version 1.0\r\n",
      "\r\n",
      "import Generators\r\n",
      "\r\n",
      "module Test {\r\n",
      "\tports: [\r\n",
      "\t\tport OutputPort {\r\n",
      "\t\t\tmain: on\r\n",
      "\t\t\tdirection: \"output\"\r\n",
      "\t\t\tblock: Output\r\n",
      "\t\t}\r\n",
      "\t]\r\n",
      "\tstreams: [\r\n",
      "\t\t10 >> Output;\r\n",
      "\t]\r\n",
      "}\r\n",
      "\r\n",
      "Test() >> AudioOut[1];\r\n"
     ]
    }
   ],
   "source": [
    "!cat 01_out.stride"
   ]
  },
  {
   "cell_type": "code",
   "execution_count": 6,
   "metadata": {
    "collapsed": false
   },
   "outputs": [],
   "source": [
    "out_text = ''\n",
    "for val1, val2 in zip(input1, input2):\n",
    "    out_text += \"10.0\\n0.0\\n\"\n",
    "\n",
    "out_file = open(\"01_out.expected\", \"w\")\n",
    "out_file.write(out_text[:-1])\n",
    "pass"
   ]
  },
  {
   "cell_type": "markdown",
   "metadata": {},
   "source": [
    "02_in.stride has no meaningful output"
   ]
  },
  {
   "cell_type": "code",
   "execution_count": 7,
   "metadata": {
    "collapsed": false
   },
   "outputs": [
    {
     "name": "stdout",
     "output_type": "stream",
     "text": [
      "use DesktopAudio version 1.0\r\n",
      "\r\n",
      "import Generators\r\n",
      "\r\n",
      "\r\n",
      "module Test {\r\n",
      "\tports: [\r\n",
      "\t\tport OutputPort {\r\n",
      "\t\t\tmain: on\r\n",
      "\t\t\tdirection: \"output\"\r\n",
      "\t\t\tblock: Output\r\n",
      "\t\t}\r\n",
      "\t\tport InputPort {\r\n",
      "\t\t\tmain: on\r\n",
      "\t\t\tdirection: \"input\"\r\n",
      "\t\t\tblock: Input\r\n",
      "\t\t}\r\n",
      "\t]\r\n",
      "\tstreams: [\r\n",
      "\t\tInput >> Output;\r\n",
      "\t]\r\n",
      "}\r\n",
      "\r\n",
      "AudioIn[2] >> Test() >> AudioOut[1];\r\n"
     ]
    }
   ],
   "source": [
    "!cat 03_in_and_out.stride"
   ]
  },
  {
   "cell_type": "code",
   "execution_count": 8,
   "metadata": {
    "collapsed": true
   },
   "outputs": [],
   "source": [
    "out_text = ''\n",
    "for val1, val2 in zip(input1, input2):\n",
    "    out_text += str(val2) + \"\\n0.0\\n\"\n",
    "\n",
    "out_file = open(\"03_in_and_out.expected\", \"w\")\n",
    "out_file.write(out_text[:-1])\n",
    "pass"
   ]
  },
  {
   "cell_type": "code",
   "execution_count": 9,
   "metadata": {
    "collapsed": false
   },
   "outputs": [
    {
     "name": "stdout",
     "output_type": "stream",
     "text": [
      "use DesktopAudio version 1.0\r\n",
      "\r\n",
      "import Generators\r\n",
      "\r\n",
      "\r\n",
      "module Test {\r\n",
      "\tports: [\r\n",
      "\t\tport OutputPort {\r\n",
      "\t\t\tmain: on\r\n",
      "\t\t\tdirection: \"output\"\r\n",
      "\t\t\tblock: Output\r\n",
      "\t\t}\r\n",
      "\t\tport InputPort {\r\n",
      "\t\t\tmain: on\r\n",
      "\t\t\tdirection: \"input\"\r\n",
      "\t\t\tblock: Input\r\n",
      "\t\t}\r\n",
      "\t\tport TestPort {\r\n",
      "\t\t\tname: \"test\"\r\n",
      "\t\t\tdirection: \"input\"\r\n",
      "\t\t\tblock: TestBlock\r\n",
      "\t\t}\r\n",
      "\t]\r\n",
      "\tstreams: [\r\n",
      "\t\tInput * TestBlock >> Output;\r\n",
      "\t\t]\r\n",
      "}\r\n",
      "\r\n",
      "AudioIn[1] >> Test(test: 0.5) >> AudioOut[1];\r\n",
      "AudioIn[2] >> Test(test: 0.25) >> AudioOut[2];\r\n"
     ]
    }
   ],
   "source": [
    "!cat 04_port.stride"
   ]
  },
  {
   "cell_type": "code",
   "execution_count": 10,
   "metadata": {
    "collapsed": true
   },
   "outputs": [],
   "source": [
    "out_text = ''\n",
    "for val1, val2 in zip(input1, input2):\n",
    "    out_text += str(0.5 * val1) + \"\\n\" + str(0.25 * val2) +  \"\\n\"\n",
    "\n",
    "out_file = open(\"04_port.expected\", \"w\")\n",
    "out_file.write(out_text[:-1])\n",
    "pass"
   ]
  },
  {
   "cell_type": "code",
   "execution_count": 11,
   "metadata": {
    "collapsed": true
   },
   "outputs": [],
   "source": [
    "!cp 04_port.expected 04a_port_signal.expected"
   ]
  },
  {
   "cell_type": "code",
   "execution_count": 12,
   "metadata": {
    "collapsed": true
   },
   "outputs": [],
   "source": [
    "!cp 04_port.expected 04b_port_constant.expected"
   ]
  },
  {
   "cell_type": "code",
   "execution_count": 13,
   "metadata": {
    "collapsed": false
   },
   "outputs": [
    {
     "name": "stdout",
     "output_type": "stream",
     "text": [
      "use DesktopAudio version 1.0\r\n",
      "\r\n",
      "import Generators\r\n",
      "\r\n",
      "\r\n",
      "module Test {\r\n",
      "\tports: [\r\n",
      "\t\tport OutputPort {\r\n",
      "\t\t\tmain: on\r\n",
      "\t\t\tdirection: \"output\"\r\n",
      "\t\t\tblock: Output\r\n",
      "\t\t}\r\n",
      "\t\tport InputPort {\r\n",
      "\t\t\tmain: on\r\n",
      "\t\t\tdirection: \"input\"\r\n",
      "\t\t\tblock: Input\r\n",
      "\t\t}\r\n",
      "\t\tport TestPort {\r\n",
      "\t\t\tname: \"test\"\r\n",
      "\t\t\tdirection: \"input\"\r\n",
      "\t\t\tblock: TestBlock\r\n",
      "\t\t}\r\n",
      "\t]\r\n",
      "\tstreams: [\r\n",
      "\t\tInput * TestBlock >> Output;\r\n",
      "\t\t]\r\n",
      "}\r\n",
      "\r\n",
      "AudioIn[1] >> Test(test: AudioIn[2]) >> AudioOut[1];\r\n"
     ]
    }
   ],
   "source": [
    "!cat 04c_port_platformbundle.stride"
   ]
  },
  {
   "cell_type": "code",
   "execution_count": 14,
   "metadata": {
    "collapsed": false
   },
   "outputs": [
    {
     "name": "stdout",
     "output_type": "stream",
     "text": [
      "use DesktopAudio version 1.0\r\n",
      "\r\n",
      "module UsedInTest {\r\n",
      "\tports: [\r\n",
      "\t\tport OutputPort {\r\n",
      "\t\t\tmain: on\r\n",
      "\t\t\tdirection: \"output\"\r\n",
      "\t\t\tblock: Output\r\n",
      "\t\t}\r\n",
      "\t\tport InputPort {\r\n",
      "\t\t\tmain: on\r\n",
      "\t\t\tdirection: \"input\"\r\n",
      "\t\t\tblock: Input\r\n",
      "\t\t}\r\n",
      "\t]\r\n",
      "\tstreams: [\r\n",
      "\t\tInput - 1 >> Output;\r\n",
      "\t]\r\n",
      "}\r\n",
      "module Test {\r\n",
      "\tports: [\r\n",
      "\t\tport OutputPort {\r\n",
      "\t\t\tmain: on\r\n",
      "\t\t\tdirection: \"output\"\r\n",
      "\t\t\tblock: Output\r\n",
      "\t\t}\r\n",
      "\t\tport InputPort {\r\n",
      "\t\t\tmain: on\r\n",
      "\t\t\tdirection: \"input\"\r\n",
      "\t\t\tblock: Input\r\n",
      "\t\t}\r\n",
      "\t]\r\n",
      "\tblocks: [\r\n",
      "\t]\r\n",
      "\tstreams: [\r\n",
      "\t\tInput * 2 >> UsedInTest() >> Output;\r\n",
      "\t]\r\n",
      "}\r\n",
      "\r\n",
      "AudioIn >> Test() >> AudioOut;\r\n"
     ]
    }
   ],
   "source": [
    "!cat 11_module_call_module.stride"
   ]
  },
  {
   "cell_type": "code",
   "execution_count": 17,
   "metadata": {
    "collapsed": false
   },
   "outputs": [],
   "source": [
    "out_text = ''\n",
    "for val1, val2 in zip(input1, input2):\n",
    "    out_text += str((2.0 * val1) -  1.0) + \"\\n\" + str((2.0 * val2) - 1.0) +  \"\\n\"\n",
    "\n",
    "out_file = open(\"11_module_call_module.expected\", \"w\")\n",
    "out_file.write(out_text[:-1])\n",
    "pass"
   ]
  },
  {
   "cell_type": "code",
   "execution_count": null,
   "metadata": {
    "collapsed": false
   },
   "outputs": [],
   "source": []
  },
  {
   "cell_type": "code",
   "execution_count": null,
   "metadata": {
    "collapsed": true
   },
   "outputs": [],
   "source": []
  }
 ],
 "metadata": {
  "kernelspec": {
   "display_name": "Python 3",
   "language": "python",
   "name": "python3"
  },
  "language_info": {
   "codemirror_mode": {
    "name": "ipython",
    "version": 3
   },
   "file_extension": ".py",
   "mimetype": "text/x-python",
   "name": "python",
   "nbconvert_exporter": "python",
   "pygments_lexer": "ipython3",
   "version": "3.5.3"
  }
 },
 "nbformat": 4,
 "nbformat_minor": 2
}
