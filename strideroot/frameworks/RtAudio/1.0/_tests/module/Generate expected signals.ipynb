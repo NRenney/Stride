{
 "cells": [
  {
   "cell_type": "code",
   "execution_count": 3,
   "metadata": {
    "collapsed": false
   },
   "outputs": [
    {
     "name": "stdout",
     "output_type": "stream",
     "text": [
      "Populating the interactive namespace from numpy and matplotlib\n"
     ]
    }
   ],
   "source": [
    "%pylab inline"
   ]
  },
  {
   "cell_type": "code",
   "execution_count": 4,
   "metadata": {
    "collapsed": true
   },
   "outputs": [],
   "source": [
    "num_samples = 44100"
   ]
  },
  {
   "cell_type": "code",
   "execution_count": 5,
   "metadata": {
    "collapsed": false
   },
   "outputs": [],
   "source": [
    "input1 = linspace(-1, 1, num_samples)\n",
    "input2 = linspace(1, -1, num_samples)"
   ]
  },
  {
   "cell_type": "code",
   "execution_count": 6,
   "metadata": {
    "collapsed": false
   },
   "outputs": [
    {
     "name": "stdout",
     "output_type": "stream",
     "text": [
      "use DesktopAudio version 1.0\r\n",
      "\r\n",
      "import Generators\r\n",
      "\r\n",
      "module Test {\r\n",
      "\tports: [\r\n",
      "\t\tport OutputPort {\r\n",
      "\t\t\tmain: on\r\n",
      "\t\t\tdirection: \"output\"\r\n",
      "\t\t\tblock: Output\r\n",
      "\t\t}\r\n",
      "\t]\r\n",
      "\tstreams: [\r\n",
      "\t\t10 >> Output;\r\n",
      "\t]\r\n",
      "}\r\n",
      "\r\n",
      "Test() >> AudioOut[1];\r\n"
     ]
    }
   ],
   "source": [
    "!cat 01_out.stride"
   ]
  },
  {
   "cell_type": "code",
   "execution_count": 7,
   "metadata": {
    "collapsed": false
   },
   "outputs": [],
   "source": [
    "out_text = ''\n",
    "for val1, val2 in zip(input1, input2):\n",
    "    out_text += \"10.0\\n0.0\\n\"\n",
    "\n",
    "out_file = open(\"01_out.expected\", \"w\")\n",
    "out_file.write(out_text[:-1])\n",
    "pass"
   ]
  },
  {
   "cell_type": "markdown",
   "metadata": {},
   "source": [
    "02_in.stride has no meaningful output"
   ]
  },
  {
   "cell_type": "code",
   "execution_count": 8,
   "metadata": {
    "collapsed": false
   },
   "outputs": [
    {
     "name": "stdout",
     "output_type": "stream",
     "text": [
      "use DesktopAudio version 1.0\r\n",
      "\r\n",
      "import Generators\r\n",
      "\r\n",
      "\r\n",
      "module Test {\r\n",
      "\tports: [\r\n",
      "\t\tport OutputPort {\r\n",
      "\t\t\tmain: on\r\n",
      "\t\t\tdirection: \"output\"\r\n",
      "\t\t\tblock: Output\r\n",
      "\t\t}\r\n",
      "\t\tport InputPort {\r\n",
      "\t\t\tmain: on\r\n",
      "\t\t\tdirection: \"input\"\r\n",
      "\t\t\tblock: Input\r\n",
      "\t\t}\r\n",
      "\t]\r\n",
      "\tstreams: [\r\n",
      "\t\tInput >> Output;\r\n",
      "\t]\r\n",
      "}\r\n",
      "\r\n",
      "AudioIn[2] >> Test() >> AudioOut[1];\r\n"
     ]
    }
   ],
   "source": [
    "!cat 03_in_and_out.stride"
   ]
  },
  {
   "cell_type": "code",
   "execution_count": 9,
   "metadata": {
    "collapsed": true
   },
   "outputs": [],
   "source": [
    "out_text = ''\n",
    "for val1, val2 in zip(input1, input2):\n",
    "    out_text += str(val2) + \"\\n0.0\\n\"\n",
    "\n",
    "out_file = open(\"03_in_and_out.expected\", \"w\")\n",
    "out_file.write(out_text[:-1])\n",
    "pass"
   ]
  },
  {
   "cell_type": "code",
   "execution_count": 10,
   "metadata": {
    "collapsed": false
   },
   "outputs": [
    {
     "name": "stdout",
     "output_type": "stream",
     "text": [
      "use DesktopAudio version 1.0\r\n",
      "\r\n",
      "import Generators\r\n",
      "\r\n",
      "\r\n",
      "module Test {\r\n",
      "\tports: [\r\n",
      "\t\tport OutputPort {\r\n",
      "\t\t\tmain: on\r\n",
      "\t\t\tdirection: \"output\"\r\n",
      "\t\t\tblock: Output\r\n",
      "\t\t}\r\n",
      "\t\tport InputPort {\r\n",
      "\t\t\tmain: on\r\n",
      "\t\t\tdirection: \"input\"\r\n",
      "\t\t\tblock: Input\r\n",
      "\t\t}\r\n",
      "\t\tport TestPort {\r\n",
      "\t\t\tname: \"test\"\r\n",
      "\t\t\tdirection: \"input\"\r\n",
      "\t\t\tblock: TestBlock\r\n",
      "\t\t}\r\n",
      "\t]\r\n",
      "\tstreams: [\r\n",
      "\t\tInput * TestBlock >> Output;\r\n",
      "\t\t]\r\n",
      "}\r\n",
      "\r\n",
      "AudioIn[1] >> Test(test: 0.5) >> AudioOut[1];\r\n",
      "AudioIn[2] >> Test(test: 0.25) >> AudioOut[2];\r\n"
     ]
    }
   ],
   "source": [
    "!cat 04_port.stride"
   ]
  },
  {
   "cell_type": "code",
   "execution_count": 11,
   "metadata": {
    "collapsed": true
   },
   "outputs": [],
   "source": [
    "out_text = ''\n",
    "for val1, val2 in zip(input1, input2):\n",
    "    out_text += str(0.5 * val1) + \"\\n\" + str(0.25 * val2) +  \"\\n\"\n",
    "\n",
    "out_file = open(\"04_port.expected\", \"w\")\n",
    "out_file.write(out_text[:-1])\n",
    "pass"
   ]
  },
  {
   "cell_type": "code",
   "execution_count": 12,
   "metadata": {
    "collapsed": true
   },
   "outputs": [],
   "source": [
    "!cp 04_port.expected 04a_port_signal.expected"
   ]
  },
  {
   "cell_type": "code",
   "execution_count": 13,
   "metadata": {
    "collapsed": true
   },
   "outputs": [],
   "source": [
    "!cp 04_port.expected 04b_port_constant.expected"
   ]
  },
  {
   "cell_type": "code",
   "execution_count": 14,
   "metadata": {
    "collapsed": false
   },
   "outputs": [
    {
     "name": "stdout",
     "output_type": "stream",
     "text": [
      "use DesktopAudio version 1.0\r\n",
      "\r\n",
      "import Generators\r\n",
      "\r\n",
      "\r\n",
      "module Test {\r\n",
      "\tports: [\r\n",
      "\t\tport OutputPort {\r\n",
      "\t\t\tmain: on\r\n",
      "\t\t\tdirection: \"output\"\r\n",
      "\t\t\tblock: Output\r\n",
      "\t\t}\r\n",
      "\t\tport InputPort {\r\n",
      "\t\t\tmain: on\r\n",
      "\t\t\tdirection: \"input\"\r\n",
      "\t\t\tblock: Input\r\n",
      "\t\t}\r\n",
      "\t\tport TestPort {\r\n",
      "\t\t\tname: \"test\"\r\n",
      "\t\t\tdirection: \"input\"\r\n",
      "\t\t\tblock: TestBlock\r\n",
      "\t\t}\r\n",
      "\t]\r\n",
      "\tstreams: [\r\n",
      "\t\tInput * TestBlock >> Output;\r\n",
      "\t\t]\r\n",
      "}\r\n",
      "\r\n",
      "AudioIn[1] >> Test(test: AudioIn[2]) >> AudioOut[1];\r\n"
     ]
    }
   ],
   "source": [
    "!cat 04c_port_platformbundle.stride"
   ]
  },
  {
   "cell_type": "code",
   "execution_count": 15,
   "metadata": {
    "collapsed": false
   },
   "outputs": [
    {
     "name": "stdout",
     "output_type": "stream",
     "text": [
      "use DesktopAudio version 1.0\r\n",
      "\r\n",
      "module UsedInTest {\r\n",
      "\tports: [\r\n",
      "\t\tport OutputPort {\r\n",
      "\t\t\tmain: on\r\n",
      "\t\t\tdirection: \"output\"\r\n",
      "\t\t\tblock: Output\r\n",
      "\t\t}\r\n",
      "\t\tport InputPort {\r\n",
      "\t\t\tmain: on\r\n",
      "\t\t\tdirection: \"input\"\r\n",
      "\t\t\tblock: Input\r\n",
      "\t\t}\r\n",
      "\t]\r\n",
      "\tstreams: [\r\n",
      "\t\tInput - 1 >> Output;\r\n",
      "\t]\r\n",
      "}\r\n",
      "module Test {\r\n",
      "\tports: [\r\n",
      "\t\tport OutputPort {\r\n",
      "\t\t\tmain: on\r\n",
      "\t\t\tdirection: \"output\"\r\n",
      "\t\t\tblock: Output\r\n",
      "\t\t}\r\n",
      "\t\tport InputPort {\r\n",
      "\t\t\tmain: on\r\n",
      "\t\t\tdirection: \"input\"\r\n",
      "\t\t\tblock: Input\r\n",
      "\t\t}\r\n",
      "\t]\r\n",
      "\tblocks: [\r\n",
      "\t]\r\n",
      "\tstreams: [\r\n",
      "\t\tInput * 2 >> UsedInTest() >> Output;\r\n",
      "\t]\r\n",
      "}\r\n",
      "\r\n",
      "AudioIn >> Test() >> AudioOut;\r\n"
     ]
    }
   ],
   "source": [
    "!cat 11_module_call_module.stride"
   ]
  },
  {
   "cell_type": "code",
   "execution_count": 16,
   "metadata": {
    "collapsed": false
   },
   "outputs": [],
   "source": [
    "out_text = ''\n",
    "for val1, val2 in zip(input1, input2):\n",
    "    out_text += str((2.0 * val1) -  1.0) + \"\\n\" + str((2.0 * val2) - 1.0) +  \"\\n\"\n",
    "\n",
    "out_file = open(\"11_module_call_module.expected\", \"w\")\n",
    "out_file.write(out_text[:-1])\n",
    "pass"
   ]
  },
  {
   "cell_type": "code",
   "execution_count": 17,
   "metadata": {
    "collapsed": false
   },
   "outputs": [
    {
     "name": "stdout",
     "output_type": "stream",
     "text": [
      "use DesktopAudio version 1.0\r\n",
      "\r\n",
      "module UsedInTest {\r\n",
      "\tports: [\r\n",
      "\t\tport OutputPort {\r\n",
      "\t\t\tmain: on\r\n",
      "\t\t\tdirection: \"output\"\r\n",
      "\t\t\tblock: Output\r\n",
      "\t\t}\r\n",
      "\t\tport InputPort {\r\n",
      "\t\t\tmain: on\r\n",
      "\t\t\tdirection: \"input\"\r\n",
      "\t\t\tblock: Input\r\n",
      "\t\t}\r\n",
      "\t]\r\n",
      "\tstreams: [\r\n",
      "\t\tInput - 1 >> Output;\r\n",
      "\t]\r\n",
      "}\r\n",
      "\r\n",
      "module Test {\r\n",
      "\tports: [\r\n",
      "\t\tport OutputPort {\r\n",
      "\t\t\tmain: on\r\n",
      "\t\t\tdirection: \"output\"\r\n",
      "\t\t\tblock: Output\r\n",
      "\t\t}\r\n",
      "\t\tport InputPort {\r\n",
      "\t\t\tmain: on\r\n",
      "\t\t\tdirection: \"input\"\r\n",
      "\t\t\tblock: Input\r\n",
      "\t\t}\r\n",
      "\t]\r\n",
      "\tstreams: [\r\n",
      "\t\tInput * 2 >> UsedInTest() >> Output;\r\n",
      "\t]\r\n",
      "}\r\n",
      "\r\n",
      "\r\n",
      "module Test2 {\r\n",
      "\tports: [\r\n",
      "\t\tport OutputPort {\r\n",
      "\t\t\tmain: on\r\n",
      "\t\t\tdirection: \"output\"\r\n",
      "\t\t\tblock: Output\r\n",
      "\t\t}\r\n",
      "\t\tport InputPort {\r\n",
      "\t\t\tmain: on\r\n",
      "\t\t\tdirection: \"input\"\r\n",
      "\t\t\tblock: Input\r\n",
      "\t\t}\r\n",
      "\t]\r\n",
      "\tstreams: [\r\n",
      "\t\tInput / 3 >> UsedInTest() >> Output;\r\n",
      "\t]\r\n",
      "}\r\n",
      "\r\n",
      "\r\n",
      "AudioIn >> Test() >>  Test2() >>AudioOut;\r\n"
     ]
    }
   ],
   "source": [
    "!cat 12_called_multiple_times.stride"
   ]
  },
  {
   "cell_type": "code",
   "execution_count": 23,
   "metadata": {
    "collapsed": false
   },
   "outputs": [],
   "source": [
    "out_text = ''\n",
    "\n",
    "def process(inval):\n",
    "    return (((inval * 2) - 1)/3) - 1\n",
    "    \n",
    "for val1, val2 in zip(input1, input2):\n",
    "    out_text += str(process(val1)) + \"\\n\" + str(process(val2)) +  \"\\n\"\n",
    "\n",
    "out_file = open(\"12_called_multiple_times.expected\", \"w\")\n",
    "out_file.write(out_text[:-1])\n",
    "pass"
   ]
  },
  {
   "cell_type": "code",
   "execution_count": 24,
   "metadata": {
    "collapsed": false
   },
   "outputs": [
    {
     "name": "stdout",
     "output_type": "stream",
     "text": [
      "use DesktopAudio version 1.0\r\n",
      "\r\n",
      "module UsedInTest {\r\n",
      "\tports: [\r\n",
      "\t\tport OutputPort {\r\n",
      "\t\t\tmain: on\r\n",
      "\t\t\tdirection: \"output\"\r\n",
      "\t\t\tblock: Output\r\n",
      "\t\t}\r\n",
      "\t\tport InputPort {\r\n",
      "\t\t\tmain: on\r\n",
      "\t\t\tdirection: \"input\"\r\n",
      "\t\t\tblock: Input\r\n",
      "\t\t}\r\n",
      "\t]\r\n",
      "\tstreams: [\r\n",
      "\t\tInput - 1 >> Output;\r\n",
      "\t]\r\n",
      "}\r\n",
      "\r\n",
      "module Test {\r\n",
      "\tports: [\r\n",
      "\t\tport OutputPort {\r\n",
      "\t\t\tmain: on\r\n",
      "\t\t\tdirection: \"output\"\r\n",
      "\t\t\tblock: Output\r\n",
      "\t\t}\r\n",
      "\t\tport InputPort {\r\n",
      "\t\t\tmain: on\r\n",
      "\t\t\tdirection: \"input\"\r\n",
      "\t\t\tblock: Input\r\n",
      "\t\t}\r\n",
      "\t]\r\n",
      "\tstreams: [\r\n",
      "\t\tInput * 2 >> UsedInTest() >> UsedInTest2() >> UsedInTest3() >> Output;\r\n",
      "\t]\r\n",
      "}\r\n",
      "\r\n",
      "module UsedInTest2 {\r\n",
      "\tports: [\r\n",
      "\t\tport OutputPort {\r\n",
      "\t\t\tmain: on\r\n",
      "\t\t\tdirection: \"output\"\r\n",
      "\t\t\tblock: Output\r\n",
      "\t\t}\r\n",
      "\t\tport InputPort {\r\n",
      "\t\t\tmain: on\r\n",
      "\t\t\tdirection: \"input\"\r\n",
      "\t\t\tblock: Input\r\n",
      "\t\t}\r\n",
      "\t]\r\n",
      "\tstreams: [\r\n",
      "\t\tInput + 2 >> Output;\r\n",
      "\t]\r\n",
      "}\r\n",
      "\r\n",
      "module Test2 {\r\n",
      "\tports: [\r\n",
      "\t\tport OutputPort {\r\n",
      "\t\t\tmain: on\r\n",
      "\t\t\tdirection: \"output\"\r\n",
      "\t\t\tblock: Output\r\n",
      "\t\t}\r\n",
      "\t\tport InputPort {\r\n",
      "\t\t\tmain: on\r\n",
      "\t\t\tdirection: \"input\"\r\n",
      "\t\t\tblock: Input\r\n",
      "\t\t}\r\n",
      "\t]\r\n",
      "\tstreams: [\r\n",
      "\t\tInput / 3 >> UsedInTest() >> UsedInTest2() >> UsedInTest3() >> Output;\r\n",
      "\t]\r\n",
      "}\r\n",
      "\r\n",
      "module UsedInTest3 {\r\n",
      "\tports: [\r\n",
      "\t\tport OutputPort {\r\n",
      "\t\t\tmain: on\r\n",
      "\t\t\tdirection: \"output\"\r\n",
      "\t\t\tblock: Output\r\n",
      "\t\t}\r\n",
      "\t\tport InputPort {\r\n",
      "\t\t\tmain: on\r\n",
      "\t\t\tdirection: \"input\"\r\n",
      "\t\t\tblock: Input\r\n",
      "\t\t}\r\n",
      "\t]\r\n",
      "\tstreams: [\r\n",
      "\t\tInput - 3 >> Output;\r\n",
      "\t]\r\n",
      "}\r\n",
      "\r\n",
      "AudioIn >> Test() >> Test2() >>AudioOut;\r\n"
     ]
    }
   ],
   "source": [
    "!cat 13_dependencies.stride"
   ]
  },
  {
   "cell_type": "code",
   "execution_count": 25,
   "metadata": {
    "collapsed": true
   },
   "outputs": [],
   "source": [
    "out_text = ''\n",
    "\n",
    "def process(inval):\n",
    "    return (((inval * 2) - 1 + 2 - 3)/3) -1 + 2 -3 \n",
    "    \n",
    "for val1, val2 in zip(input1, input2):\n",
    "    out_text += str(process(val1)) + \"\\n\" + str(process(val2)) +  \"\\n\"\n",
    "\n",
    "out_file = open(\"13_dependencies.expected\", \"w\")\n",
    "out_file.write(out_text[:-1])\n",
    "pass"
   ]
  },
  {
   "cell_type": "code",
   "execution_count": 26,
   "metadata": {
    "collapsed": false
   },
   "outputs": [
    {
     "name": "stdout",
     "output_type": "stream",
     "text": [
      "use DesktopAudio version 1.0\r\n",
      "\r\n",
      "import Generators\r\n",
      "\r\n",
      "# This module uses the Select module. The Select module is also used by Oscillator \r\n",
      "# internally. This causes issues if the order of declarations is not sorted correctly\r\n",
      "# according to dependencies\r\n",
      "module UsedInTest {\r\n",
      "\tports: [\r\n",
      "\t\tport OutputPort {\r\n",
      "\t\t\tmain: on\r\n",
      "\t\t\tdirection: \"output\"\r\n",
      "\t\t\tblock: Output\r\n",
      "\t\t}\r\n",
      "\t\tport InputPort {\r\n",
      "\t\t\tmain: on\r\n",
      "\t\t\tdirection: \"input\"\r\n",
      "\t\t\tblock: Input\r\n",
      "\t\t}\r\n",
      "\t]\r\n",
      "\tstreams: [\r\n",
      "\t\tInput >> Select(whenOn: 0 whenOff: 1) >> Output;\r\n",
      "\t]\r\n",
      "}\r\n",
      "\r\n",
      "module Test {\r\n",
      "\tports: [\r\n",
      "\t\tport OutputPort {\r\n",
      "\t\t\tmain: on\r\n",
      "\t\t\tdirection: \"output\"\r\n",
      "\t\t\tblock: Output\r\n",
      "\t\t}\r\n",
      "\t\tport InputPort {\r\n",
      "\t\t\tmain: on\r\n",
      "\t\t\tdirection: \"input\"\r\n",
      "\t\t\tblock: Input\r\n",
      "\t\t}\r\n",
      "\t]\r\n",
      "\tstreams: [\r\n",
      "\t\tInput * 2 >> UsedInTest() >> Output;\r\n",
      "\t]\r\n",
      "}\r\n",
      "\r\n",
      "Oscillator(frequency: 1) >> Test() >>AudioOut;\r\n"
     ]
    }
   ],
   "source": [
    "!cat 14_complex_dependencies.stride"
   ]
  },
  {
   "cell_type": "code",
   "execution_count": 27,
   "metadata": {
    "collapsed": false
   },
   "outputs": [
    {
     "name": "stdout",
     "output_type": "stream",
     "text": [
      "use DesktopAudio version 1.0\r\n",
      "\r\n",
      "import Generators\r\n",
      "\r\n",
      "module Test {\r\n",
      "\tports: [\r\n",
      "\t\tport OutputPort {\r\n",
      "\t\t\tmain: on\r\n",
      "\t\t\tdirection: \"output\"\r\n",
      "\t\t\tblock: Output\r\n",
      "\t\t}\r\n",
      "\t\tport InputPort {\r\n",
      "\t\t\tmain: on\r\n",
      "\t\t\tdirection: \"input\"\r\n",
      "\t\t\tblock: Input\r\n",
      "\t\t}\r\n",
      "\t]\r\n",
      "\tblocks: [\r\n",
      "\t\treaction InternalReaction {\r\n",
      "\t\t\tports: [\r\n",
      "\t\t\t\tport OutputPort {\r\n",
      "\t\t\t\t\tmain: on\r\n",
      "\t\t\t\t\tdirection: \"output\"\r\n",
      "\t\t\t\t\tblock: Output\r\n",
      "\t\t\t\t}\r\n",
      "\t\t\t]\r\n",
      "\t\t\tstreams: [\r\n",
      "\t\t\t\tValue + 1 >> Output;\r\n",
      "\t\t\t]\r\n",
      "\t\t}\r\n",
      "\t\tsignal Value { default: 0}\t\r\n",
      "\t]\r\n",
      "\tstreams: [\r\n",
      "\t\t[Input, 0] >> Greater() >> InternalReaction() >> Output;\r\n",
      "\t]\r\n",
      "}\r\n",
      "\r\n",
      "AudioIn[1] >> Test() >> AudioOut[1];\r\n"
     ]
    }
   ],
   "source": [
    "!cat 15_reaction_in_module.stride"
   ]
  },
  {
   "cell_type": "code",
   "execution_count": 2,
   "metadata": {
    "collapsed": false
   },
   "outputs": [
    {
     "ename": "NameError",
     "evalue": "name 'input1' is not defined",
     "output_type": "error",
     "traceback": [
      "\u001b[0;31m---------------------------------------------------------------------------\u001b[0m",
      "\u001b[0;31mNameError\u001b[0m                                 Traceback (most recent call last)",
      "\u001b[0;32m<ipython-input-2-bd5d4b02cdfb>\u001b[0m in \u001b[0;36m<module>\u001b[0;34m()\u001b[0m\n\u001b[1;32m      7\u001b[0m         \u001b[0mvalue\u001b[0m \u001b[0;34m+=\u001b[0m \u001b[0;36m1\u001b[0m\u001b[0;34m\u001b[0m\u001b[0m\n\u001b[1;32m      8\u001b[0m \u001b[0;34m\u001b[0m\u001b[0m\n\u001b[0;32m----> 9\u001b[0;31m \u001b[0;32mfor\u001b[0m \u001b[0mval1\u001b[0m\u001b[0;34m,\u001b[0m \u001b[0mval2\u001b[0m \u001b[0;32min\u001b[0m \u001b[0mzip\u001b[0m\u001b[0;34m(\u001b[0m\u001b[0minput1\u001b[0m\u001b[0;34m,\u001b[0m \u001b[0minput2\u001b[0m\u001b[0;34m)\u001b[0m\u001b[0;34m:\u001b[0m\u001b[0;34m\u001b[0m\u001b[0m\n\u001b[0m\u001b[1;32m     10\u001b[0m     \u001b[0mout_text\u001b[0m \u001b[0;34m+=\u001b[0m \u001b[0mstr\u001b[0m\u001b[0;34m(\u001b[0m\u001b[0mprocess\u001b[0m\u001b[0;34m(\u001b[0m\u001b[0mvalue\u001b[0m\u001b[0;34m)\u001b[0m\u001b[0;34m)\u001b[0m \u001b[0;34m+\u001b[0m \u001b[0;34m\"\\n0.0\\n\"\u001b[0m\u001b[0;34m\u001b[0m\u001b[0m\n\u001b[1;32m     11\u001b[0m \u001b[0;34m\u001b[0m\u001b[0m\n",
      "\u001b[0;31mNameError\u001b[0m: name 'input1' is not defined"
     ]
    }
   ],
   "source": [
    "out_text = ''\n",
    "\n",
    "value = 0\n",
    "\n",
    "def process(inval):\n",
    "    if inval > 0:\n",
    "        value += 1\n",
    "    \n",
    "for val1, val2 in zip(input1, input2):\n",
    "    out_text += str(process(value)) + \"\\n0.0\\n\"\n",
    "\n",
    "out_file = open(\"15_reaction_in_module.expected\", \"w\")\n",
    "out_file.write(out_text[:-1])\n",
    "pass"
   ]
  },
  {
   "cell_type": "code",
   "execution_count": 4,
   "metadata": {
    "collapsed": false
   },
   "outputs": [
    {
     "name": "stdout",
     "output_type": "stream",
     "text": [
      "use DesktopAudio version 1.0\r\n",
      "\r\n",
      "\r\n",
      "#module Test {\r\n",
      "#\tports: [\r\n",
      "#\t\tport OutputPort {\r\n",
      "#\t\t\tmain: on\r\n",
      "#\t\t\tdirection: \"output\"\r\n",
      "#\t\t\tblock: Output\r\n",
      "#\t\t}\r\n",
      "#\t\tport InputPort {\r\n",
      "#\t\t\tmain: on\r\n",
      "#\t\t\tdirection: \"input\"\r\n",
      "#\t\t\tblock: Input\r\n",
      "#\t\t}\r\n",
      "#\t]\r\n",
      "#\tblocks: [\r\n",
      "#\t\tsignal Var {}\r\n",
      "#\t\tmodule UsedInTest {\r\n",
      "#\t\t\tports: [\r\n",
      "#\t\t\t\tport OutputPort {\r\n",
      "#\t\t\t\t\tmain: on\r\n",
      "#\t\t\t\t\tdirection: \"output\"\r\n",
      "#\t\t\t\t\tblock: Output\r\n",
      "#\t\t\t\t}\r\n",
      "#\t\t\t\tport InputPort {\r\n",
      "#\t\t\t\t\tmain: on\r\n",
      "#\t\t\t\t\tdirection: \"input\"\r\n",
      "#\t\t\t\t\tblock: Input\r\n",
      "#\t\t\t\t}\r\n",
      "#\t\t\t]\r\n",
      "#\t\t\tstreams: [\r\n",
      "#\t\t\t\tVar + 1 >> Var;\r\n",
      "#\t\t\t\tInput >> Output;\r\n",
      "#\t\t\t]\r\n",
      "#\t\t}\r\n",
      "#\t]\r\n",
      "#\tstreams: [\r\n",
      "#\t\tInput * 2 >> UsedInTest() >> Output;\r\n",
      "#\t]\r\n",
      "#}\r\n",
      "#\r\n",
      "#AudioIn >> Test() >>AudioOut;\r\n",
      "\r\n",
      "AudioIn >> AudioOut;\r\n"
     ]
    }
   ],
   "source": [
    "!cat 16_recursive_module_shared.stride"
   ]
  },
  {
   "cell_type": "code",
   "execution_count": 3,
   "metadata": {
    "collapsed": false
   },
   "outputs": [
    {
     "name": "stdout",
     "output_type": "stream",
     "text": [
      "use DesktopAudio version 1.0\r\n",
      "\r\n",
      "\r\n",
      "module Test {\r\n",
      "\tports: [\r\n",
      "\t\tport OutputPort {\r\n",
      "\t\t\tmain: on\r\n",
      "\t\t\tdirection: \"output\"\r\n",
      "\t\t\tblock: Output\r\n",
      "\t\t\tsize: 2\r\n",
      "\t\t}\r\n",
      "\t\tport InputPort {\r\n",
      "\t\t\tmain: on\r\n",
      "\t\t\tdirection: \"input\"\r\n",
      "\t\t\tblock: Input\r\n",
      "\t\t}\r\n",
      "\t\tport VarPort {\r\n",
      "\t\t\tmain: off\r\n",
      "\t\t\tblock: Var\r\n",
      "\t\t}\r\n",
      "\t]\r\n",
      "\tblocks: [\r\n",
      "\t\treaction UsesVar {\r\n",
      "\t\t\tports: [\r\n",
      "\t\t\t\tport InputPort {\r\n",
      "\t\t\t\t\tmain: on\r\n",
      "\t\t\t\t\tdirection: \"input\"\r\n",
      "\t\t\t\t\tblock: Input\r\n",
      "\t\t\t\t}\r\n",
      "\t\t\t]\r\n",
      "\t\t\tstreams: [\r\n",
      "\t\t\t\tVar + 0.001 >> Var;\r\n",
      "\t\t\t]\r\n",
      "\t\t}\r\n",
      "\t]\r\n",
      "\tstreams: [\r\n",
      "\t\t[Input, 0] >> Greater() >> UsesVar();\r\n",
      "\t\tInput * Var >> Output[1];\r\n",
      "\t\tVar >> Output[2]; # This Var should be connected to the bridge signal\r\n",
      "\t\t\r\n",
      "\t]\r\n",
      "}\r\n",
      "\r\n",
      "AudioIn[1] >> Test() >>AudioOut;\r\n",
      "\r\n"
     ]
    }
   ],
   "source": [
    "!cat 17_port_in_nested_reaction.stride"
   ]
  },
  {
   "cell_type": "code",
   "execution_count": null,
   "metadata": {
    "collapsed": true
   },
   "outputs": [],
   "source": [
    "out_text = ''\n",
    "\n",
    "value = 0\n",
    "\n",
    "def process(inval):\n",
    "    if inval > 0:\n",
    "        value += 1\n",
    "    \n",
    "for val1, val2 in zip(input1, input2):\n",
    "    out_text += str(process(value)) + \"\\n0.0\\n\"\n",
    "\n",
    "out_file = open(\"17_port_in_nested_reaction.expected\", \"w\")\n",
    "out_file.write(out_text[:-1])\n",
    "pass"
   ]
  }
 ],
 "metadata": {
  "kernelspec": {
   "display_name": "Python 3",
   "language": "python",
   "name": "python3"
  },
  "language_info": {
   "codemirror_mode": {
    "name": "ipython",
    "version": 3
   },
   "file_extension": ".py",
   "mimetype": "text/x-python",
   "name": "python",
   "nbconvert_exporter": "python",
   "pygments_lexer": "ipython3",
   "version": "3.5.3"
  }
 },
 "nbformat": 4,
 "nbformat_minor": 2
}
