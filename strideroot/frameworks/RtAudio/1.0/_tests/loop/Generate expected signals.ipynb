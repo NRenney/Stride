{
 "cells": [
  {
   "cell_type": "code",
   "execution_count": 1,
   "metadata": {
    "collapsed": false
   },
   "outputs": [
    {
     "name": "stdout",
     "output_type": "stream",
     "text": [
      "Populating the interactive namespace from numpy and matplotlib\n"
     ]
    }
   ],
   "source": [
    "%pylab inline"
   ]
  },
  {
   "cell_type": "code",
   "execution_count": 2,
   "metadata": {
    "collapsed": true
   },
   "outputs": [],
   "source": [
    "num_samples = 44100"
   ]
  },
  {
   "cell_type": "code",
   "execution_count": 3,
   "metadata": {
    "collapsed": true
   },
   "outputs": [],
   "source": [
    "input1 = linspace(-1, 1, num_samples)\n",
    "input2 = linspace(1, -1, num_samples)"
   ]
  },
  {
   "cell_type": "code",
   "execution_count": 8,
   "metadata": {
    "collapsed": false
   },
   "outputs": [
    {
     "name": "stdout",
     "output_type": "stream",
     "text": [
      "use DesktopAudio version 1.0\r\n",
      "\r\n",
      "signal Accum {}\r\n",
      "switch ResetOuter {}\r\n",
      "signal OuterCounter { reset: ResetOuter}\r\n",
      "\r\n",
      "loop Loop {\r\n",
      "\tports: [\t\t\r\n",
      "\t]\r\n",
      "\tblocks: [\r\n",
      "\t\tsignal Counter { reset: CounterReset }\r\n",
      "\t\tswitch CounterReset {}\r\n",
      "\t]\r\n",
      "\tstreams: [\r\n",
      "\t\tAccum + 2 >> Accum;\r\n",
      "\t\tCounter + 1 >> Counter;\r\n",
      "\t\t[Counter, 10] >> Equal() >> CounterReset;\r\n",
      "\t]\r\n",
      "\tterminateWhen: CounterReset\r\n",
      "}\r\n",
      "\r\n",
      "\r\n",
      "[OuterCounter, 20] >> Equal() >> ResetOuter >> Loop(); \r\n",
      "OuterCounter + 1 >> OuterCounter;\r\n",
      "Accum >> AudioOut[1];\r\n",
      "\r\n"
     ]
    }
   ],
   "source": [
    "!cat 01_simple.stride"
   ]
  },
  {
   "cell_type": "code",
   "execution_count": 11,
   "metadata": {
    "collapsed": false
   },
   "outputs": [],
   "source": [
    "out_text = ''\n",
    "\n",
    "outercounter = 0\n",
    "counter = 0\n",
    "accum = 0\n",
    "\n",
    "for val1, val2 in zip(input1, input2):\n",
    "    if outercounter == 20:\n",
    "        for i in range(10):\n",
    "            accum += 2\n",
    "        outercounter = 0\n",
    "    outercounter += 1\n",
    "    out_text += str(accum) + \"\\n0.0\\n\"\n",
    "\n",
    "out_file = open(\"01_simple.expected\", \"w\")\n",
    "out_file.write(out_text[:-1])\n",
    "pass"
   ]
  },
  {
   "cell_type": "code",
   "execution_count": null,
   "metadata": {
    "collapsed": true
   },
   "outputs": [],
   "source": []
  }
 ],
 "metadata": {
  "kernelspec": {
   "display_name": "Python 3",
   "language": "python",
   "name": "python3"
  },
  "language_info": {
   "codemirror_mode": {
    "name": "ipython",
    "version": 3
   },
   "file_extension": ".py",
   "mimetype": "text/x-python",
   "name": "python",
   "nbconvert_exporter": "python",
   "pygments_lexer": "ipython3",
   "version": "3.5.3"
  }
 },
 "nbformat": 4,
 "nbformat_minor": 2
}
